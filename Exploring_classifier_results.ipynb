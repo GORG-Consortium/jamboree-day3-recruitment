{
 "cells": [
  {
   "cell_type": "markdown",
   "id": "befabf31-4ad8-40f8-9a2a-23b1b83f96aa",
   "metadata": {},
   "source": [
    "# Exploring classifier results\n",
    "Day 3, by Greg Gavelis -- \n",
    "ggavelis@bigelow.org\n",
    "<br>\n",
    "\n",
    "# Part I:\n",
    "Walkthrough led by Greg\n",
    "\n",
    "### Load the results table into a dataframe"
   ]
  },
  {
   "cell_type": "code",
   "execution_count": 2,
   "id": "77b5148b-a39c-43d8-a073-71cb4172234a",
   "metadata": {
    "tags": []
   },
   "outputs": [
    {
     "name": "stdout",
     "output_type": "stream",
     "text": [
      "/mnt/storage/data/daily-data/day3/classifier_support_files/index.fmi.zip\n"
     ]
    }
   ],
   "source": [
    "!ls -h /mnt/storage/data/daily-data/day3/classifier_support_files/index.fmi.zip"
   ]
  },
  {
   "cell_type": "code",
   "execution_count": 1,
   "id": "44646a2e-0958-4d33-ac40-6fdc8e64ad4d",
   "metadata": {
    "tags": []
   },
   "outputs": [],
   "source": [
    "import seaborn as sns\n",
    "import pandas as pd\n",
    "pd.set_option(\"display.max_rows\", 10)\n",
    "\n",
    "PATH_data=\"/mnt/storage/data/daily-data/day3/SRR11600247_annotated.txt\"\n",
    "df=pd.read_csv(PATH_data, sep='\\t')\n",
    "\n"
   ]
  },
  {
   "cell_type": "markdown",
   "id": "d455fc60-d362-40ed-986a-88f9effae196",
   "metadata": {},
   "source": [
    "### What kind of information does it contain?\n",
    "1. preview it with df.head() or df.columns"
   ]
  },
  {
   "cell_type": "code",
   "execution_count": 2,
   "id": "eae74421-7e61-4652-86f3-e00eca1952f7",
   "metadata": {
    "tags": []
   },
   "outputs": [
    {
     "data": {
      "text/html": [
       "<div>\n",
       "<style scoped>\n",
       "    .dataframe tbody tr th:only-of-type {\n",
       "        vertical-align: middle;\n",
       "    }\n",
       "\n",
       "    .dataframe tbody tr th {\n",
       "        vertical-align: top;\n",
       "    }\n",
       "\n",
       "    .dataframe thead th {\n",
       "        text-align: right;\n",
       "    }\n",
       "</style>\n",
       "<table border=\"1\" class=\"dataframe\">\n",
       "  <thead>\n",
       "    <tr style=\"text-align: right;\">\n",
       "      <th></th>\n",
       "      <th>status</th>\n",
       "      <th>sequence_id</th>\n",
       "      <th>taxonomy_id</th>\n",
       "      <th>length</th>\n",
       "      <th>taxonomy_ids_lca</th>\n",
       "      <th>sequence_ids_lca</th>\n",
       "      <th>protein_sequence</th>\n",
       "      <th>taxonomic_lineage</th>\n",
       "      <th>prokka_EC_number</th>\n",
       "      <th>prokka_product</th>\n",
       "      <th>swissprot_gene</th>\n",
       "      <th>swissprot_EC_number</th>\n",
       "      <th>swissprot_eggNOG</th>\n",
       "      <th>swissprot_KO</th>\n",
       "      <th>swissprot_Pfam</th>\n",
       "      <th>swissprot_CAZy</th>\n",
       "      <th>swissprot_TIGRFAMs</th>\n",
       "    </tr>\n",
       "  </thead>\n",
       "  <tbody>\n",
       "    <tr>\n",
       "      <th>0</th>\n",
       "      <td>U</td>\n",
       "      <td>SRR11600247.5960679</td>\n",
       "      <td>0</td>\n",
       "      <td>NaN</td>\n",
       "      <td>NaN</td>\n",
       "      <td>NaN</td>\n",
       "      <td>NaN</td>\n",
       "      <td>NaN</td>\n",
       "      <td>NaN</td>\n",
       "      <td>NaN</td>\n",
       "      <td>NaN</td>\n",
       "      <td>NaN</td>\n",
       "      <td>NaN</td>\n",
       "      <td>NaN</td>\n",
       "      <td>NaN</td>\n",
       "      <td>NaN</td>\n",
       "      <td>NaN</td>\n",
       "    </tr>\n",
       "    <tr>\n",
       "      <th>1</th>\n",
       "      <td>C</td>\n",
       "      <td>SRR11600247.27196194</td>\n",
       "      <td>2014364611</td>\n",
       "      <td>132.0</td>\n",
       "      <td>2014364611,</td>\n",
       "      <td>AM225C04_N3;9584;10264,</td>\n",
       "      <td>GEQQRVAVARALANEPQLLLADEPTGSLDP,</td>\n",
       "      <td>Bacteria; Proteobacteria; Alphaproteobacteria;...</td>\n",
       "      <td>3.6.3.-</td>\n",
       "      <td>Lipoprotein-releasing system ATP-binding prote...</td>\n",
       "      <td>NaN</td>\n",
       "      <td>NaN</td>\n",
       "      <td>ENOG4105CQU,CCOG1136</td>\n",
       "      <td>K09810</td>\n",
       "      <td>PF00005</td>\n",
       "      <td>NaN</td>\n",
       "      <td>NaN</td>\n",
       "    </tr>\n",
       "    <tr>\n",
       "      <th>2</th>\n",
       "      <td>C</td>\n",
       "      <td>SRR11600247.15528877</td>\n",
       "      <td>3921893553</td>\n",
       "      <td>275.0</td>\n",
       "      <td>3921893553,</td>\n",
       "      <td>AM130L19_N5;3248;4303,AM130O13_N29;1813;2868,</td>\n",
       "      <td>RNGIHIIDLQQTVGLFKEAYNFVRDVVAEGGEVLFVGTKKQAQGII...</td>\n",
       "      <td>Bacteria; Desulfobacterota_D; UBA1144; UBA2774...</td>\n",
       "      <td>NaN</td>\n",
       "      <td>hypothetical protein</td>\n",
       "      <td>NaN</td>\n",
       "      <td>NaN</td>\n",
       "      <td>NaN</td>\n",
       "      <td>NaN</td>\n",
       "      <td>NaN</td>\n",
       "      <td>NaN</td>\n",
       "      <td>NaN</td>\n",
       "    </tr>\n",
       "    <tr>\n",
       "      <th>3</th>\n",
       "      <td>C</td>\n",
       "      <td>SRR11600247.20873063</td>\n",
       "      <td>3627313227</td>\n",
       "      <td>293.0</td>\n",
       "      <td>3627313227,</td>\n",
       "      <td>AM390O23_N4;3639;4121,</td>\n",
       "      <td>GWAYLYIGSLISFGAAAMWVLPLMIGNRKTRSVPFGPFMAFGVLAS...</td>\n",
       "      <td>Bacteria; Actinobacteriota; Actinomycetia; Nan...</td>\n",
       "      <td>NaN</td>\n",
       "      <td>hypothetical protein</td>\n",
       "      <td>NaN</td>\n",
       "      <td>NaN</td>\n",
       "      <td>NaN</td>\n",
       "      <td>NaN</td>\n",
       "      <td>NaN</td>\n",
       "      <td>NaN</td>\n",
       "      <td>NaN</td>\n",
       "    </tr>\n",
       "    <tr>\n",
       "      <th>4</th>\n",
       "      <td>U</td>\n",
       "      <td>SRR11600247.13212457</td>\n",
       "      <td>0</td>\n",
       "      <td>NaN</td>\n",
       "      <td>NaN</td>\n",
       "      <td>NaN</td>\n",
       "      <td>NaN</td>\n",
       "      <td>NaN</td>\n",
       "      <td>NaN</td>\n",
       "      <td>NaN</td>\n",
       "      <td>NaN</td>\n",
       "      <td>NaN</td>\n",
       "      <td>NaN</td>\n",
       "      <td>NaN</td>\n",
       "      <td>NaN</td>\n",
       "      <td>NaN</td>\n",
       "      <td>NaN</td>\n",
       "    </tr>\n",
       "  </tbody>\n",
       "</table>\n",
       "</div>"
      ],
      "text/plain": [
       "  status           sequence_id  taxonomy_id  length taxonomy_ids_lca  \\\n",
       "0      U   SRR11600247.5960679            0     NaN              NaN   \n",
       "1      C  SRR11600247.27196194   2014364611   132.0      2014364611,   \n",
       "2      C  SRR11600247.15528877   3921893553   275.0      3921893553,   \n",
       "3      C  SRR11600247.20873063   3627313227   293.0      3627313227,   \n",
       "4      U  SRR11600247.13212457            0     NaN              NaN   \n",
       "\n",
       "                                sequence_ids_lca  \\\n",
       "0                                            NaN   \n",
       "1                        AM225C04_N3;9584;10264,   \n",
       "2  AM130L19_N5;3248;4303,AM130O13_N29;1813;2868,   \n",
       "3                         AM390O23_N4;3639;4121,   \n",
       "4                                            NaN   \n",
       "\n",
       "                                    protein_sequence  \\\n",
       "0                                                NaN   \n",
       "1                    GEQQRVAVARALANEPQLLLADEPTGSLDP,   \n",
       "2  RNGIHIIDLQQTVGLFKEAYNFVRDVVAEGGEVLFVGTKKQAQGII...   \n",
       "3  GWAYLYIGSLISFGAAAMWVLPLMIGNRKTRSVPFGPFMAFGVLAS...   \n",
       "4                                                NaN   \n",
       "\n",
       "                                   taxonomic_lineage prokka_EC_number  \\\n",
       "0                                                NaN              NaN   \n",
       "1  Bacteria; Proteobacteria; Alphaproteobacteria;...          3.6.3.-   \n",
       "2  Bacteria; Desulfobacterota_D; UBA1144; UBA2774...              NaN   \n",
       "3  Bacteria; Actinobacteriota; Actinomycetia; Nan...              NaN   \n",
       "4                                                NaN              NaN   \n",
       "\n",
       "                                      prokka_product  swissprot_gene  \\\n",
       "0                                                NaN             NaN   \n",
       "1  Lipoprotein-releasing system ATP-binding prote...             NaN   \n",
       "2                               hypothetical protein             NaN   \n",
       "3                               hypothetical protein             NaN   \n",
       "4                                                NaN             NaN   \n",
       "\n",
       "   swissprot_EC_number      swissprot_eggNOG swissprot_KO swissprot_Pfam  \\\n",
       "0                  NaN                   NaN          NaN            NaN   \n",
       "1                  NaN  ENOG4105CQU,CCOG1136       K09810        PF00005   \n",
       "2                  NaN                   NaN          NaN            NaN   \n",
       "3                  NaN                   NaN          NaN            NaN   \n",
       "4                  NaN                   NaN          NaN            NaN   \n",
       "\n",
       "  swissprot_CAZy swissprot_TIGRFAMs  \n",
       "0            NaN                NaN  \n",
       "1            NaN                NaN  \n",
       "2            NaN                NaN  \n",
       "3            NaN                NaN  \n",
       "4            NaN                NaN  "
      ]
     },
     "execution_count": 2,
     "metadata": {},
     "output_type": "execute_result"
    }
   ],
   "source": [
    "df.head()"
   ]
  },
  {
   "cell_type": "markdown",
   "id": "231ed7f1-895b-4de6-81d1-356d5cbbb33d",
   "metadata": {},
   "source": [
    "2. How long is this dataframe?"
   ]
  },
  {
   "cell_type": "code",
   "execution_count": 3,
   "id": "8f0c009d-3e6e-44b1-8a81-07ad1bd74f7f",
   "metadata": {},
   "outputs": [
    {
     "data": {
      "text/plain": [
       "1000000"
      ]
     },
     "execution_count": 3,
     "metadata": {},
     "output_type": "execute_result"
    }
   ],
   "source": [
    "len(df)"
   ]
  },
  {
   "cell_type": "markdown",
   "id": "b31b1051-933b-4d91-9d1f-39d2bc8ac32b",
   "metadata": {},
   "source": [
    "### First column: \"status\"\n",
    "i.e. whether the read was\n",
    "* C = classified\n",
    "* U = unclassified\n",
    "\n",
    "How many of our reads were classified?"
   ]
  },
  {
   "cell_type": "code",
   "execution_count": 4,
   "id": "3f1ced69-11f1-48fc-8090-886604d8e6d1",
   "metadata": {
    "tags": []
   },
   "outputs": [
    {
     "data": {
      "text/plain": [
       "U    578546\n",
       "C    421454\n",
       "Name: status, dtype: int64"
      ]
     },
     "execution_count": 4,
     "metadata": {},
     "output_type": "execute_result"
    }
   ],
   "source": [
    "df['status'].value_counts()"
   ]
  },
  {
   "cell_type": "markdown",
   "id": "a4a6d393-a4b1-4984-8792-f6943cc8b6f3",
   "metadata": {},
   "source": [
    "### Let's subset this dataset down (df -> sdf) to classified reads only\n"
   ]
  },
  {
   "cell_type": "code",
   "execution_count": 6,
   "id": "f5e3c12b-4924-4bf0-b1dd-43f5de627016",
   "metadata": {
    "tags": []
   },
   "outputs": [
    {
     "data": {
      "text/plain": [
       "421454"
      ]
     },
     "execution_count": 6,
     "metadata": {},
     "output_type": "execute_result"
    }
   ],
   "source": [
    "sdf = df.loc[df['status'] == 'C']\n",
    "\n",
    "### And use len() to verify that sdf has many reads as we expect\n",
    "len(sdf)"
   ]
  },
  {
   "cell_type": "markdown",
   "id": "9f90362f-776f-4ae0-881b-314c678495db",
   "metadata": {
    "tags": []
   },
   "source": [
    "## Taxonomic columns:\n",
    "* <b>taxonomy_id</b> _____ = the unique numeric code for the taxonomic lineage\n",
    "* <b>taxonomy_ids_lca</b> ____ = code of the last common ancestor\n",
    "* <b>taxonomic_lineage</b>\n",
    "\n",
    "<u>Examples of taxonomic lineage:</u><Br>\n",
    "\n",
    "*Classified to genus*<br>\n",
    "Bacteria; Desulfobacterota; Desulfobacteria; Desulfobacterales; Desulfobacteraceae; Desulfobacula; NA\n",
    "<br>\n",
    "<br>\n",
    "*Classified to species*<br>\n",
    "Bacteria; Marinisomatota; Marinisomatia; SCGC-AAA003-L08; JACNLC01; JABMOW01; JABMOW01 sp013204025\n",
    "<br>\n",
    "#### What's with these weird taxon names like \"JABMOW01\"?\n",
    "Erected by GTDB as placeholder names that reflect real genomic diversity but await Linnean naming.\n",
    "\n",
    "### What are the 10 most abundant taxa in your dataset?"
   ]
  },
  {
   "cell_type": "code",
   "execution_count": 8,
   "id": "4d5ce5fb-dfd4-4794-9918-93174de44968",
   "metadata": {
    "tags": []
   },
   "outputs": [
    {
     "data": {
      "text/plain": [
       "Bacteria; Desulfobacterota; DSM-4660; Desulfatiglandales; NA; NA; NA;                                                       30888\n",
       "Bacteria; Actinobacteriota; Actinomycetia; Nanopelagicales; S36-B12; UBA4592; UBA4592 sp002365735;                          25854\n",
       "Bacteria; Desulfobacterota; Desulfobacteria; Desulfobacterales; Desulfobacteraceae; Desulfobacula; NA;                      20726\n",
       "Bacteria; Bacteroidota; Bacteroidia; Bacteroidales; NA; NA; NA;                                                             12821\n",
       "Archaea; Thermoproteota; Nitrososphaeria; Nitrososphaerales; Nitrosopumilaceae; Nitrosopumilus; NA;                         12657\n",
       "Bacteria; Verrucomicrobiota; Kiritimatiellae; SPBP01; NA; NA; SPBP01 sp004525935;                                           10870\n",
       "Bacteria; Actinobacteriota; Actinomycetia; Nanopelagicales; S36-B12; UBA4592; UBA4592 sp002469525;                          10360\n",
       "Bacteria; Campylobacterota; Campylobacteria; Campylobacterales; Sulfurimonadaceae; Sulfurimonas; NA;                         9692\n",
       "Bacteria; Desulfobacterota; DSM-4660; Desulfatiglandales; Desulfatiglandaceae; DUZB01; NA;                                   7833\n",
       "Bacteria; Actinobacteriota; Actinomycetia; Mycobacteriales; Mycobacteriaceae; Mycobacterium; Mycobacterium sp018401645;      7359\n",
       "Name: taxonomic_lineage, dtype: int64"
      ]
     },
     "execution_count": 8,
     "metadata": {},
     "output_type": "execute_result"
    }
   ],
   "source": [
    "sdf['taxonomic_lineage'].value_counts()[0:10]"
   ]
  },
  {
   "cell_type": "markdown",
   "id": "c743754d-0a94-4b78-8edd-c037b2825031",
   "metadata": {},
   "source": [
    "## Annotation columns:\n",
    "* <b>prokka_EC_number</b>  _______ EC = enzyme catalog\n",
    "* <b>prokka_product</b>  __________ *The most human readable field*\n",
    "* <b>swissprot_gene</b>\n",
    "* <b>swissprot_EC_number</b>\n",
    "* <b>swissprot_eggNOG</b>   ______ eggNOG = protein orthology database (European Molecular Biology Laboratory)\n",
    "* <b>swissprot_KO</b>    ___________ KO = Kegg Orthology (Kyoto Encyclopedia of Genes and Genomes)\n",
    "* <b>swissprot_CAZy</b>  _________ CAZy = database of carbohydrate-active enzymes\n",
    "* <b>swissprot_TIGRFAMs</b> _____ protein orthology database (NCBI)\n",
    "\n",
    "Swissprot is a larger protein reference database than prokka\\'s default database"
   ]
  },
  {
   "cell_type": "markdown",
   "id": "26faaffc-2f31-4693-abac-33c0ec568564",
   "metadata": {
    "tags": []
   },
   "source": [
    "# Part II:\n",
    "Take a couple minutes to think about what taxa or functions you'd like to explore.\n",
    "<br><br>\n",
    "Among group: Discuss your categories of interest.<br>\n",
    "Then share ways you might expore that category.<br>\n",
    "Can use R, python, Excel, etc...<br>\n",
    "This is open-ended. Don't have to present anything unless you want to."
   ]
  },
  {
   "cell_type": "code",
   "execution_count": 7,
   "id": "6bdecf2d-b1e3-4c3f-832f-b173bd89d6ee",
   "metadata": {
    "tags": []
   },
   "outputs": [
    {
     "data": {
      "text/plain": [
       "12657"
      ]
     },
     "execution_count": 7,
     "metadata": {},
     "output_type": "execute_result"
    }
   ],
   "source": [
    "#### Example of how you could subset the dataset (sdf -> tdf) to a taxon of interest:\n",
    "STR_taxon=\"Archaea; Thermoproteota; Nitrososphaeria; Nitrososphaerales; Nitrosopumilaceae; Nitrosopumilus; NA; \"\n",
    "tdf=sdf.loc[sdf['taxonomic_lineage']==STR_taxon]\n",
    "\n",
    "### How mant reads were assigned to that taxon?\n",
    "len(tdf)"
   ]
  },
  {
   "cell_type": "code",
   "execution_count": null,
   "id": "85152fdb-78c0-4228-aac7-6f0b5d4e56d5",
   "metadata": {},
   "outputs": [],
   "source": []
  }
 ],
 "metadata": {
  "kernelspec": {
   "display_name": "GORGpy",
   "language": "python",
   "name": "gorgpy"
  },
  "language_info": {
   "codemirror_mode": {
    "name": "ipython",
    "version": 3
   },
   "file_extension": ".py",
   "mimetype": "text/x-python",
   "name": "python",
   "nbconvert_exporter": "python",
   "pygments_lexer": "ipython3",
   "version": "3.11.0"
  }
 },
 "nbformat": 4,
 "nbformat_minor": 5
}
